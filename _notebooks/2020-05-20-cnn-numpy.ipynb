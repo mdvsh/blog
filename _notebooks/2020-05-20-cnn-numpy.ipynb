{
 "cells": [
  {
   "cell_type": "markdown",
   "metadata": {},
   "source": [
    "# \"Convolutional Model Building Blocks\"\n",
    "> \"An attempt at implementing a CNN to from scratch using NumPy to better understand its working.\"\n",
    "- toc: true\n",
    "- branch: master\n",
    "- badges: true\n",
    "- comments: false\n",
    "- categories: [dl]\n",
    "- image: images/backprop.png\n",
    "- hide: false\n",
    "- search_exclude: false"
   ]
  },
  {
   "cell_type": "markdown",
   "metadata": {},
   "source": [
    "> Note: Gist hosted [here](https://gist.github.com/PseudoCodeNerd/ae94cc895a1c9302853306abdf99a49b)."
   ]
  },
  {
   "cell_type": "code",
   "execution_count": 1,
   "metadata": {},
   "outputs": [],
   "source": [
    "import numpy as np\n",
    "import matplotlib.pyplot as plt\n",
    "%matplotlib inline"
   ]
  },
  {
   "attachments": {},
   "cell_type": "markdown",
   "metadata": {},
   "source": [
    "\n",
    "\n",
    "\n",
    "### TODO:\n",
    "- Convolution Functions\n",
    "     - Zero padding\n",
    "     - Convolve window\n",
    "     - Forward convolution\n",
    "     - Backward Convolution\n",
    "- Pooling Function\n",
    "     - Forward pool\n",
    "     - Mask creation\n",
    "     - Value distribution\n",
    "     - Backward Pool\n",
    "---\n",
    "\n",
    "<center>Basic structure of CNN</center>\n",
    "\n",
    "![image.png](img/model_cnn.png)\n"
   ]
  },
  {
   "cell_type": "markdown",
   "metadata": {},
   "source": [
    "### Zero Padding\n",
    "To add zeros around the image matrix to prevent loss of features due to scaling down after one step of a convolution.\n",
    "*Same Convolution*: padding such that h-w of original image preserved after one layer."
   ]
  },
  {
   "cell_type": "code",
   "execution_count": 2,
   "metadata": {},
   "outputs": [],
   "source": [
    "def zero_pad(X, p):\n",
    "    \"\"\"\n",
    "    params\n",
    "    X: (n, nH, nW, nC) dims array representing a batch of images\n",
    "    p: int, amount of padding around each image\n",
    "    \"\"\"\n",
    "    pad_width = ((0, 0), (p, p), (p, p), (0, 0))\n",
    "    X_p = np.pad(X, pad_width, mode='constant', constant_values=(0, 0))\n",
    "    return X_p"
   ]
  },
  {
   "cell_type": "markdown",
   "metadata": {},
   "source": [
    "An example of padding some sample data and demonstrating."
   ]
  },
  {
   "cell_type": "code",
   "execution_count": 4,
   "metadata": {},
   "outputs": [
    {
     "name": "stdout",
     "output_type": "stream",
     "text": [
      "X.shape =\n",
      " (1, 3, 3, 2)\n",
      "x_p.shape =\n",
      " (1, 7, 7, 2)\n"
     ]
    },
    {
     "data": {
      "text/plain": [
       "<matplotlib.image.AxesImage at 0x7f33b5942bd0>"
      ]
     },
     "execution_count": 4,
     "metadata": {},
     "output_type": "execute_result"
    },
    {
     "data": {
      "image/png": "[encoded data removed]",
      "text/plain": [
       "<Figure size 432x288 with 2 Axes>"
      ]
     },
     "metadata": {
      "needs_background": "light"
     },
     "output_type": "display_data"
    }
   ],
   "source": [
    "np.random.seed(0)\n",
    "x = np.random.randn(1, 3, 3, 2)\n",
    "x_p = zero_pad(x, 2)\n",
    "print (\"X.shape =\\n\", x.shape)\n",
    "print (\"x_p.shape =\\n\", x_p.shape)\n",
    "fig, axarr = plt.subplots(1, 2)\n",
    "axarr[0].set_title('X: Original Image Matrix')\n",
    "axarr[0].imshow(x[0,:,:,0])\n",
    "axarr[1].set_title('X_p: Padded Image Matrix')\n",
    "axarr[1].imshow(x_p[0,:,:,0])"
   ]
  },
  {
   "cell_type": "markdown",
   "metadata": {},
   "source": [
    "### Convolution\n",
    "\n",
    "1. `conv_one_part()`\n",
    "    -   TODO:  Take input volume (matrix by no. of channels) and **convolve** filter against it to output new volume with features (hopefully) identified.\n",
    "\n",
    "`conv_one_part()` will apply convolution to a part of the given image matrix (X) of dimensions filter_h x filter_w, taking steps of value *stride* after each iteration of the function.\n",
    "To be implemented in the next function."
   ]
  },
  {
   "cell_type": "code",
   "execution_count": 5,
   "metadata": {},
   "outputs": [],
   "source": [
    "def conv_one_part(a_slice, W, b):\n",
    "    \"\"\"\n",
    "    params\n",
    "    m_slice: slice of input matrix; dims --> (f_h, f_w, nC_prev)\n",
    "    W: Weight params contained in a window; dims --> (f_h, f_w, nC_prev)\n",
    "    b: Bias params contained in a window; dims --> (1, 1, 1) : scalar\n",
    "    \"\"\"\n",
    "    Z = float(np.add(np.sum(np.multiply(a_slice, W)), b))\n",
    "    return Z"
   ]
  },
  {
   "cell_type": "markdown",
   "metadata": {},
   "source": [
    "2. `forward_conv()`\n",
    "    - TODO: Take multiple filters and convolve all of them on the input. Stack 2D Matrix outputs to produce output volume giving result of a single forward pass of convolution."
   ]
  },
  {
   "cell_type": "code",
   "execution_count": 10,
   "metadata": {},
   "outputs": [],
   "source": [
    "def forward_conv(A_prev, W, b, hparams):\n",
    "    \"\"\"\n",
    "    params\n",
    "    A_prev: previous layer activation; dims --> (n, nH, nW, nC_prev)\n",
    "    W: Weight params contained in a window; dims --> (f_h, f_w, nC_prev, nC)\n",
    "    b: Bias params contained in a window; dims --> (1, 1, 1, nC) : scalar\n",
    "    hparams: dict containing values for stride and padding\n",
    "    \n",
    "    return\n",
    "    Z: conv step output; dims --> (n, nH, nW, nC)\n",
    "    cache: for calculating derivatives in backward_conv()\n",
    "    \"\"\"\n",
    "    # Init: Dimensions, hparams\n",
    "    (n, nH_prev, nW_prev, nC_prev) = np.shape(A_prev)\n",
    "    (f, f, nC_prev, nC) = np.shape(W)\n",
    "    s = hparams['stride']\n",
    "    pad = hparams['padding']\n",
    "    nH = int((nH_prev-f+2*pad)/s)+1\n",
    "    nW = int((nW_prev-f+2*pad)/s)+1\n",
    "    Z = np.zeros((n, nH, nW, nC))\n",
    "    \n",
    "    # Applying padding to prev layer activation\n",
    "    A_prev_p = zero_pad(A_prev, pad)\n",
    "    \n",
    "    # Loop (Vectorization >>>>>>> Loops) to apply convolution operation.\n",
    "    for i in range(n):\n",
    "        a_prev_p = A_prev_p[i, :, :, :]\n",
    "        for h in range(nH):\n",
    "            for w in range(nW):\n",
    "                vert1_f, vert2_f = h*s, h*s+f\n",
    "                hori1_f, hori2_f = w*s, w*s+f\n",
    "                for c in range (nC):\n",
    "                    # slice\n",
    "                    a_slice = a_prev_p[vert1_f:vert2_f, hori1_f:hori2_f, :]\n",
    "                    Z[i, h, w, c] = conv_one_part(a_slice, W[:, :, :, c], b[:, :, :, c])\n",
    "    # for backward_conv()               \n",
    "    cache = (A_prev, W, b, hparams)\n",
    "#     assert(Z.shape == (n, nH, nW, nC))\n",
    "\n",
    "    return (Z, cache)"
   ]
  },
  {
   "cell_type": "markdown",
   "metadata": {},
   "source": [
    "#### Testing one iteration of `forward_conv()` on sample data."
   ]
  },
  {
   "cell_type": "code",
   "execution_count": 8,
   "metadata": {},
   "outputs": [
    {
     "name": "stdout",
     "output_type": "stream",
     "text": [
      "Z's mean =\n",
      " -0.1282614539128993\n",
      "Z[3,2,1] =\n",
      " [ 4.98925312 -0.12934609  6.77487928 -6.44934224  1.80531313  8.75470928\n",
      " -2.85387942 -2.65858316]\n",
      "cache_conv[0][1][2][3] = [-0.9970198  -0.10679399  1.45142926 -0.61803685]\n"
     ]
    }
   ],
   "source": [
    "np.random.seed(1)\n",
    "A_prev = np.random.randn(10,8,8,4)\n",
    "W = np.random.randn(3,3,4,8) # channels of A_prev and W has to be the same (here, 4)\n",
    "b = np.random.randn(1,1,1,8)\n",
    "hparams = {\"padding\" : 2, \"stride\": 2}\n",
    "\n",
    "Z, cache_conv = forward_conv(A_prev, W, b, hparams)\n",
    "print(\"Z's mean =\\n\", np.mean(Z))\n",
    "print(\"Z[3,2,1] =\\n\", Z[3,2,1])\n",
    "print(\"cache_conv[0][1][2][3] =\", cache_conv[0][1][2][3])"
   ]
  },
  {
   "cell_type": "markdown",
   "metadata": {},
   "source": [
    "### Pooling\n",
    "Pooling operation after convolution to keep strong features by taking the maximum / average value contained in a sub-matrix of dims of the filter. Pooling helps reduce computation, as well as helps make feature detectors more invariant to its position in the input. \n",
    "`forward_pool()` implments a forward pass of the pooling layer. By default, *maxpool*."
   ]
  },
  {
   "cell_type": "code",
   "execution_count": 21,
   "metadata": {},
   "outputs": [],
   "source": [
    "def forward_pool(A_prev, hparams, mode=\"maxpool\"):\n",
    "    \"\"\"\n",
    "    params\n",
    "    A_prev: previous layer activation; dims --> (n, nH, nW, nC_prev)\n",
    "    hparams: dict containing values for filter_size and padding\n",
    "    mode: pooling to perform; default --> maxpool\n",
    "    \n",
    "    return\n",
    "    A: pool step output; dims --> (n, nH, nW, nC)\n",
    "    cache: for calculating derivatives in backward_pool()\n",
    "    \"\"\"\n",
    "    # Init: Dimensions, hparams\n",
    "    (n, nH_prev, nW_prev, nC_prev) = np.shape(A_prev)\n",
    "    s = hparams['stride']\n",
    "    fs = hparams['filt_size']\n",
    "    nH = int((nH_prev-fs)/s)+1\n",
    "    nW = int((nW_prev-fs)/s)+1\n",
    "    nC = nC_prev\n",
    "    A = np.zeros((n, nH, nW, nC))\n",
    "    \n",
    "    # Loop (Vectorization >>>>>>> Loops) to apply pooling operation.\n",
    "    for i in range(n):\n",
    "        for h in range(nH):\n",
    "            for w in range(nW):\n",
    "                for c in range(nC):\n",
    "                    vert1_f, vert2_f = h*s, h*s+fs\n",
    "                    hori1_f, hori2_f = w*s, w*s+fs\n",
    "                    a_slice = A_prev[i, vert1_f:vert2_f, hori1_f:hori2_f, c]\n",
    "                    if mode == 'maxpool': A[i, h, w, c] = np.max(a_slice)\n",
    "                    elif mode == 'avrgpool': A[i, h, w, c] = np.mean(a_slice)\n",
    "    # for backward_conv()               \n",
    "    cache = (A_prev, hparams)\n",
    "#     assert(A.shape == (n, nH, nW, nC))\n",
    "    return (A, cache)"
   ]
  },
  {
   "cell_type": "markdown",
   "metadata": {},
   "source": [
    "#### Testing one iteration of `forward_pool(mode='maxpool')` on sample data."
   ]
  },
  {
   "cell_type": "code",
   "execution_count": 22,
   "metadata": {},
   "outputs": [
    {
     "name": "stdout",
     "output_type": "stream",
     "text": [
      "A_prev.shape = (1, 5, 5, 3)\n",
      "A = \n",
      " [[[[ 1.62434536 -0.61175641 -0.52817175]\n",
      "   [-1.07296862  0.86540763 -2.3015387 ]\n",
      "   [ 1.74481176 -0.7612069   0.3190391 ]\n",
      "   [-0.24937038  1.46210794 -2.06014071]\n",
      "   [-0.3224172  -0.38405435  1.13376944]]\n",
      "\n",
      "  [[-1.09989127 -0.17242821 -0.87785842]\n",
      "   [ 0.04221375  0.58281521 -1.10061918]\n",
      "   [ 1.14472371  0.90159072  0.50249434]\n",
      "   [ 0.90085595 -0.68372786 -0.12289023]\n",
      "   [-0.93576943 -0.26788808  0.53035547]]\n",
      "\n",
      "  [[-0.69166075 -0.39675353 -0.6871727 ]\n",
      "   [-0.84520564 -0.67124613 -0.0126646 ]\n",
      "   [-1.11731035  0.2344157   1.65980218]\n",
      "   [ 0.74204416 -0.19183555 -0.88762896]\n",
      "   [-0.74715829  1.6924546   0.05080775]]\n",
      "\n",
      "  [[-0.63699565  0.19091548  2.10025514]\n",
      "   [ 0.12015895  0.61720311  0.30017032]\n",
      "   [-0.35224985 -1.1425182  -0.34934272]\n",
      "   [-0.20889423  0.58662319  0.83898341]\n",
      "   [ 0.93110208  0.28558733  0.88514116]]\n",
      "\n",
      "  [[-0.75439794  1.25286816  0.51292982]\n",
      "   [-0.29809284  0.48851815 -0.07557171]\n",
      "   [ 1.13162939  1.51981682  2.18557541]\n",
      "   [-1.39649634 -1.44411381 -0.50446586]\n",
      "   [ 0.16003707  0.87616892  0.31563495]]]]\n",
      "\n",
      "Pooling type : Max Pooling\n",
      "A.shape = (1, 2, 2, 3)\n",
      "A =\n",
      " [[[[1.74481176 0.90159072 1.65980218]\n",
      "   [1.74481176 1.6924546  1.65980218]]\n",
      "\n",
      "  [[1.13162939 1.51981682 2.18557541]\n",
      "   [1.13162939 1.6924546  2.18557541]]]]\n",
      "\n",
      "Pooling type : Average Pooling\n",
      "A.shape = (1, 2, 2, 3)\n",
      "A =\n",
      " [[[[-0.03010467 -0.00324021 -0.33629886]\n",
      "   [ 0.12893444  0.22242847  0.1250676 ]]\n",
      "\n",
      "  [[-0.38268052  0.23257995  0.6259979 ]\n",
      "   [-0.09525515  0.268511    0.46605637]]]]\n"
     ]
    }
   ],
   "source": [
    "np.random.seed(1)\n",
    "A_prev = np.random.randn(1, 5, 5, 3)\n",
    "hparams = {\"stride\" : 2, \"filt_size\": 3}\n",
    "\n",
    "print('A_prev.shape = ' + str(A_prev.shape))\n",
    "print(\"A = \\n\", A_prev)\n",
    "print()\n",
    "A, cache = forward_pool(A_prev, hparams)\n",
    "print(\"Pooling type : Max Pooling\")\n",
    "print(\"A.shape = \" + str(A.shape))\n",
    "print(\"A =\\n\", A)\n",
    "print()\n",
    "A, cache = forward_pool(A_prev, hparams, mode = \"avrgpool\")\n",
    "print(\"Pooling type : Average Pooling\")\n",
    "print(\"A.shape = \" + str(A.shape))\n",
    "print(\"A =\\n\", A)"
   ]
  },
  {
   "cell_type": "markdown",
   "metadata": {},
   "source": [
    "## Convolution Layer - Backward Pass\n",
    "*Note: $dZ_{hw}$ is a scalar corresponding to the gradient of the cost with respect to the output of the conv layer Z at the hth row and wth column (corresponding to the dot product taken at the ith stride left and jth stride down).*\n",
    "\n",
    "Further, We need to compute :\n",
    "1. $dA$ (w.r.t cost for a certain filter $W_{c}$)\n",
    "     $$ dA += \\sum _{h=0} ^{n_H} \\sum_{w=0} ^{n_W} W_c \\times dZ_{hw} \\tag{1}$$\n",
    "     \n",
    "     - Notice, how everytime the same filter is multiplied by a different derivative of cost w.r.t output of conv layer Z ($dZ$)\n",
    "2. $dW$ (derivative of one filter w.r.t to the loss)\n",
    "    $$ dW_c  += \\sum _{h=0} ^{n_H} \\sum_{w=0} ^ {n_W} a_{slice} \\times dZ_{hw}  \\tag{2}$$\n",
    "    - Where, $a_{slice}$ is the slice of original matrix used to generate activation $Z_{ij}$. This follows from the fact that the filter matrix can also learn (from backprop) optimal values.   \n",
    "3. $db$ ( w.r.t to the cost of a certain filter $dW_{c}$)\n",
    "    $$ db = \\sum_h \\sum_w dZ_{hw} \\tag{3}$$\n",
    "    \n",
    "    - summing over all the gradients of the conv output (Z) with respect to the cost.\n",
    "    \n",
    "#### `backward_conv()` : To implement the backward propagation for a convolution function"
   ]
  },
  {
   "cell_type": "code",
   "execution_count": 23,
   "metadata": {},
   "outputs": [],
   "source": [
    "def backward_conv(dZ, cache):\n",
    "    \"\"\"\n",
    "    params\n",
    "    dZ: gradient of cost w.r.t conv layer output (Z); dims --> (n, nH, nW, nC)\n",
    "    cache: cache of values needed for backward_conv(); i.e. output of forward_conv()\n",
    "    \n",
    "    returns\n",
    "    see above (markdown)\n",
    "    \"\"\"\n",
    "    # Init: Dimensions, hparams\n",
    "    (A_prev, W, b, hparams) = cache\n",
    "    (n, nH_prev, nW_prev, nC_prev) = np.shape(A_prev)\n",
    "    (f, f, nC_prev, nC) = np.shape(W)\n",
    "    s = hparams['stride']\n",
    "    pad = hparams['padding']\n",
    "    (n, nH, nW, nC) = np.shape(dZ)\n",
    "    \n",
    "    dA_prev = np.zeros_like(A_prev)\n",
    "    dW = np.zeros_like(W)\n",
    "    db = np.zeros_like(b)\n",
    "    \n",
    "    A_prev_p = zero_pad(A_prev, pad)\n",
    "    dA_prev_p  = zero_pad(dA_prev, pad)\n",
    "    \n",
    "    # Loop (Vectorization >>>>>>> Loops) for backward convolution step.\n",
    "    for i in range(n):\n",
    "        a_prev_p = A_prev_p[i, :, :, :]\n",
    "        da_prev_p = dA_prev_p[i, :, :, :]\n",
    "        for h in range(nH):\n",
    "            for w in range(nW):\n",
    "                for c in range(nC):\n",
    "                    vert1_f, vert2_f = h*s, h*s+f\n",
    "                    hori1_f, hori2_f = w*s, w*s+f\n",
    "                    # slice\n",
    "                    a_slice = a_prev_p[vert1_f:vert2_f, hori1_f:hori2_f, :]\n",
    "                    # updating gradients\n",
    "                    da_prev_p[vert1_f:vert2_f, hori1_f:hori2_f, :] += W[:, :, :, c] * dZ[i, h, w, c]\n",
    "                    dW[:, :, :, c] += a_slice * dZ[i, h, w, c]\n",
    "                    db[:, :, :, c] += dZ[i, h, w, c]\n",
    "        dA_prev[i, :, :, :] = da_prev_p[pad:-pad, pad:-pad, :]\n",
    "    \n",
    "#     assert(dA_prev.shape == (m, nH_prev, nW_prev, nC_prev))\n",
    "    return dA_prev, dW, db"
   ]
  },
  {
   "cell_type": "markdown",
   "metadata": {},
   "source": [
    "#### Testing `backward_conv()` on sample data."
   ]
  },
  {
   "cell_type": "code",
   "execution_count": 25,
   "metadata": {},
   "outputs": [
    {
     "name": "stdout",
     "output_type": "stream",
     "text": [
      "dA_mean = -0.9683520023516613\n",
      "dW_mean = -3.028451139022465\n",
      "db_mean = 41.04575496729348\n"
     ]
    }
   ],
   "source": [
    "# We'll run conv_forward to initialize the 'Z' and 'cache_conv\",\n",
    "# which we'll use to test the conv_backward function\n",
    "np.random.seed(1)\n",
    "A_prev = np.random.randn(10,4,4,3)\n",
    "W = np.random.randn(2,2,3,6) # six filters\n",
    "b = np.random.randn(1,1,1,6)\n",
    "hparameters = {\"padding\" : 2, \"stride\": 2}\n",
    "Z, cache_conv = forward_conv(A_prev, W, b, hparameters)\n",
    "# Testing backward_conv()\n",
    "dA, dW, db = backward_conv(Z, cache_conv)\n",
    "print(\"dA_mean =\", np.mean(dA))\n",
    "print(\"dW_mean =\", np.mean(dW))\n",
    "print(\"db_mean =\", np.mean(db))"
   ]
  },
  {
   "cell_type": "markdown",
   "metadata": {},
   "source": [
    "## Pooling Layer - Backward Pass\n",
    "Although, pooling layer has no learnable parameters for backpropagation, we still need to go through the pooling layer to complete gradient computation for layers that come before pooling layer.\n",
    "\n",
    "To compute backward pooling, we would need a function `mask_window()` to create a matrix which keeps track of where the maximum of the matrix is. \n",
    "\n",
    "$$ X = \\begin{bmatrix}\n",
    "1 && 2 \\\\\n",
    "3 && 4\n",
    "\\end{bmatrix} \\quad \\rightarrow  \\quad M =\\begin{bmatrix}\n",
    "0 && 0 \\\\\n",
    "0 && 1\n",
    "\\end{bmatrix}$$\n",
    "\n",
    "#### But, why do we keep track of the position of the max? \n",
    "\n",
    "It's because this is the input value that ultimately influenced the output, and therefore the cost. Backprop is computing gradients with respect to the cost, so anything that influences the ultimate cost should have a non-zero gradient. So, backprop will \"propagate\" the gradient back to this particular input value that had influenced the cost."
   ]
  },
  {
   "cell_type": "code",
   "execution_count": 29,
   "metadata": {},
   "outputs": [],
   "source": [
    "def max_mask(x):\n",
    "    \"\"\"\n",
    "    params\n",
    "    x: input matrix to be masked\n",
    "    \n",
    "    returns\n",
    "    m_x: masked matrix, same dims as x, 1 / True at max elem position\n",
    "    \"\"\"\n",
    "    m_x = (x == np.max(x))\n",
    "    return m_x"
   ]
  },
  {
   "cell_type": "code",
   "execution_count": 30,
   "metadata": {},
   "outputs": [
    {
     "name": "stdout",
     "output_type": "stream",
     "text": [
      "x =  [[5 8 9]\n",
      " [5 0 0]\n",
      " [1 7 6]]\n",
      "m_z =  [[False False  True]\n",
      " [False False False]\n",
      " [False False False]]\n"
     ]
    }
   ],
   "source": [
    "np.random.seed(1)\n",
    "x = np.random.randint(10, size=(3, 3))\n",
    "print('x = ', x)\n",
    "print('m_x = ', max_mask(x))"
   ]
  },
  {
   "cell_type": "markdown",
   "metadata": {},
   "source": [
    "We would also need a similar mask function for average pooling as well. \n",
    "\n",
    "In case of average pooling, every elem of the sliced (window) matrix has equal influence on the output *unlike* max pooling where maximum influence is by the largest element."
   ]
  },
  {
   "cell_type": "code",
   "execution_count": 32,
   "metadata": {},
   "outputs": [],
   "source": [
    "def avrg_mask(x, dims):\n",
    "    \"\"\"\n",
    "    params\n",
    "    x: input scalar to be masked\n",
    "    dims: dims of array we want to distribute x to. \n",
    "    \n",
    "    returns\n",
    "    m_x: masked matrix, same dims as x with x distributed among it\n",
    "    \"\"\"\n",
    "    (nH, nW) = dims\n",
    "    avg  = x/(nH*nW)\n",
    "    m_x = avg * np.ones((nH, nW))\n",
    "    return m_x"
   ]
  },
  {
   "cell_type": "code",
   "execution_count": 39,
   "metadata": {},
   "outputs": [
    {
     "name": "stdout",
     "output_type": "stream",
     "text": [
      "Value to be Distributed:  25 \n",
      "Distributed / Average Mask:\n",
      " [[2.77777778 2.77777778 2.77777778]\n",
      " [2.77777778 2.77777778 2.77777778]\n",
      " [2.77777778 2.77777778 2.77777778]]\n"
     ]
    }
   ],
   "source": [
    "print('Value to be Distributed: ', 25,'\\nDistributed / Average Mask:\\n', avrg_mask(25, (3, 3)))"
   ]
  },
  {
   "cell_type": "markdown",
   "metadata": {},
   "source": [
    "Now with our helper functions in place, we can proceed towards writing our final function of the day `backward_pool()`."
   ]
  },
  {
   "cell_type": "code",
   "execution_count": 44,
   "metadata": {},
   "outputs": [],
   "source": [
    "def backward_pool(dA, cache, mode='maxpool'):\n",
    "    \"\"\"\n",
    "    params\n",
    "    dA: gradient of cost w.r.t output of pooling layer; dims --> like A\n",
    "    cache: cache output from forward step of pooling layer; contains inputs and hparams\n",
    "    moode: max/average pool\n",
    "    \n",
    "    returns\n",
    "    dA_prev: gradient of cost w.r.t input of pooling layer; dims --> like A_prev\n",
    "    \"\"\"\n",
    "    # Init; Dimensions and hparams\n",
    "    (A_prev, hparams) = cache\n",
    "    s = hparams['stride']\n",
    "    fs = hparams['filt_size']\n",
    "    (n, nH, nW, nC) = np.shape(dA)\n",
    "    (n, nH_prev, nW_prev, nC_prev) = np.shape(A_prev)\n",
    "    dA_prev = np.zeros_like(A_prev)\n",
    "    \n",
    "    # Loop (Vectorization >>>>>>> Loops) for backward pooling step.\n",
    "    for i in range(n):\n",
    "        a_prev = A_prev[i, :, :, :]\n",
    "        for h in range(nH):\n",
    "            for w in range(nW):\n",
    "                for c in range(nC):\n",
    "                    vert1_f, vert2_f = h*s, h*s+fs\n",
    "                    hori1_f, hori2_f = w*s, w*s+fs\n",
    "                    if mode=='maxpool':\n",
    "                        a_prev_slice = a_prev[vert1_f:vert2_f, hori1_f:hori2_f, c]\n",
    "                        # create mask from a_prev_slice\n",
    "                        mask = max_mask(a_prev_slice)\n",
    "                        dA_prev[i, vert1_f:vert2_f, hori1_f:hori2_f, c] += mask * dA[i, h, w, c]\n",
    "                    elif mode=='avrgpool':\n",
    "                        da = dA[i, h, w, c]\n",
    "                        dims = (fs, fs)\n",
    "                        dA_prev[i, vert1_f:vert2_f, hori1_f:hori2_f, c] += avrg_mask(da, dims)\n",
    "                        \n",
    "#     assert(dA_prev.shape == A_prev.shape)\n",
    "    \n",
    "    return dA_prev"
   ]
  },
  {
   "cell_type": "markdown",
   "metadata": {},
   "source": [
    "#### Testing `backward_pool()` on sample data."
   ]
  },
  {
   "cell_type": "code",
   "execution_count": 46,
   "metadata": {},
   "outputs": [
    {
     "name": "stdout",
     "output_type": "stream",
     "text": [
      "Pooling type : Max Pooling\n",
      "mean of dA =  0.14571390272918056\n",
      "dA_prev[1,1] =  [[ 0.          0.        ]\n",
      " [ 5.05844394 -1.68282702]\n",
      " [ 0.          0.        ]]\n",
      "\n",
      "Pooling type : Average Pooling\n",
      "mean of dA =  0.14571390272918056\n",
      "dA_prev[1,1] =  [[ 0.08485462  0.2787552 ]\n",
      " [ 1.26461098 -0.25749373]\n",
      " [ 1.17975636 -0.53624893]]\n"
     ]
    }
   ],
   "source": [
    "np.random.seed(1)\n",
    "A_prev = np.random.randn(5, 5, 3, 2)\n",
    "hparameters = {\"stride\" : 1, \"filt_size\": 2}\n",
    "A, cache = forward_pool(A_prev, hparameters)\n",
    "dA = np.random.randn(5, 4, 2, 2)\n",
    "\n",
    "dA_prev = backward_pool(dA, cache, mode = \"maxpool\")\n",
    "print(\"Pooling type : Max Pooling\")\n",
    "print('mean of dA = ', np.mean(dA))\n",
    "print('dA_prev[1,1] = ', dA_prev[1,1])  \n",
    "print()\n",
    "dA_prev = backward_pool(dA, cache, mode = \"avrgpool\")\n",
    "print(\"Pooling type : Average Pooling\")\n",
    "print('mean of dA = ', np.mean(dA))\n",
    "print('dA_prev[1,1] = ', dA_prev[1,1])"
   ]
  },
  {
   "cell_type": "markdown",
   "metadata": {},
   "source": [
    "---\n",
    "\n",
    "With this, we have completed all the basic building ~~blocks~~ functions required to build a Convolutional Model.\n",
    "\n",
    "While coding this out, I was able to greatly increase my understanding about the mathematical working beneath both convolution and pooling operations. \n",
    "\n",
    "With deeplearning libraries such as PyTorch and Tensorflow making such things a breeze, (only 10 lines of pytorch code to do all things I've done in this notebook) it's not practical to define CNN models from scratch using numpy since tensors (numpy arrays + GPU support) are the go-to. Still, this endeavour turned out to be extremely knowledgable and *EPIC*.\n",
    "\n",
    "### *kthnxbye*"
   ]
  },
  {
   "cell_type": "code",
   "execution_count": null,
   "metadata": {},
   "outputs": [],
   "source": []
  }
 ],
 "metadata": {
  "kernelspec": {
   "display_name": "Python 3",
   "language": "python",
   "name": "python3"
  },
  "language_info": {
   "codemirror_mode": {
    "name": "ipython",
    "version": 3
   },
   "file_extension": ".py",
   "mimetype": "text/x-python",
   "name": "python",
   "nbconvert_exporter": "python",
   "pygments_lexer": "ipython3",
   "version": "3.7.7"
  }
 },
 "nbformat": 4,
 "nbformat_minor": 4
}
